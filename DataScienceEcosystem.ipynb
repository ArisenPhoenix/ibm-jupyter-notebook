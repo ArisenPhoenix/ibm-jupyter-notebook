{
 "cells": [
  {
   "cell_type": "markdown",
   "id": "ad964034",
   "metadata": {},
   "source": [
    "# Data Science Tools and Ecosystem"
   ]
  },
  {
   "cell_type": "markdown",
   "id": "5f1c1efb",
   "metadata": {},
   "source": [
    "In this notebook, Data Science Tools and Ecosystem are summarized."
   ]
  },
  {
   "cell_type": "markdown",
   "id": "32f4375b",
   "metadata": {},
   "source": [
    "Some of the popular languages that Data Scientists use are: <br>\n",
    "<ol>\n",
    "    <li>\n",
    "        Python\n",
    "    </li>\n",
    "    <li>\n",
    "        R\n",
    "    </li>\n",
    "    <li>\n",
    "        C++\n",
    "    </li>\n",
    "</ol>"
   ]
  },
  {
   "cell_type": "markdown",
   "id": "e59e2408",
   "metadata": {},
   "source": [
    "Some of the commonly used libraries used by Data Scientists include: <br>\n",
    "<ol>\n",
    "    <li>\n",
    "        Pandas\n",
    "    </li>\n",
    "    <li>\n",
    "        matplotlib\n",
    "    </li>\n",
    "    <li>\n",
    "        numpy\n",
    "    </li>\n",
    "    <li>\n",
    "        Seaborn\n",
    "    </li>\n",
    "    <li>\n",
    "        Ggplot2\n",
    "    </li>\n",
    "</ol>\n"
   ]
  },
  {
   "cell_type": "markdown",
   "id": "ae483edb",
   "metadata": {},
   "source": [
    "<table>\n",
    "    <tbody>\n",
    "        <tr>\n",
    "            <th>\n",
    "                Data Science Tools\n",
    "            </th>\n",
    "        </tr>\n",
    "        <tr>\n",
    "            <td>\n",
    "                Jupyter Notebook\n",
    "            </td>\n",
    "        </tr>\n",
    "        <tr>\n",
    "            <td>\n",
    "                R Studio\n",
    "            </td>\n",
    "        </tr>\n",
    "        <tr>\n",
    "            <td>\n",
    "                Hadoop\n",
    "            </td>\n",
    "        </tr>\n",
    "    </tbody>\n",
    "</table\n"
   ]
  },
  {
   "cell_type": "markdown",
   "id": "b53b1a96",
   "metadata": {},
   "source": [
    "<h3>Below are a few examples of evaluating arithmetic expressions in Python</h3>\n"
   ]
  },
  {
   "cell_type": "code",
   "execution_count": 7,
   "id": "72541120",
   "metadata": {},
   "outputs": [
    {
     "data": {
      "text/plain": [
       "17"
      ]
     },
     "execution_count": 7,
     "metadata": {},
     "output_type": "execute_result"
    }
   ],
   "source": [
    "# This a simple arithmetic expression to mutiply then add integers\n",
    "(3*4)+5"
   ]
  },
  {
   "cell_type": "code",
   "execution_count": 8,
   "id": "3deb42a7",
   "metadata": {},
   "outputs": [
    {
     "data": {
      "text/plain": [
       "3.3333333333333335"
      ]
     },
     "execution_count": 8,
     "metadata": {},
     "output_type": "execute_result"
    }
   ],
   "source": [
    "# This will convert 200 minutes to hours by diving by 60\n",
    "200/60"
   ]
  },
  {
   "cell_type": "markdown",
   "id": "86602953",
   "metadata": {},
   "source": [
    "<b>Objectives:</b>\n",
    "<ul>\n",
    "    <li>\n",
    "        List Popular Languages For Data Science\n",
    "    </li>\n",
    "    <li>\n",
    "        Use Markdown In A Jupyter Notebook\n",
    "    </li>\n",
    "    <li>\n",
    "        Describe What Is Being Done Using Different Sized Text And Show How Output Is Generated\n",
    "    </li>\n",
    "</ul>\n",
    "    "
   ]
  },
  {
   "cell_type": "markdown",
   "id": "e74cb554",
   "metadata": {},
   "source": [
    "<h2>Author:</h2> <br>\n",
    "Brandon"
   ]
  },
  {
   "cell_type": "code",
   "execution_count": null,
   "id": "a46a6f9b",
   "metadata": {},
   "outputs": [],
   "source": []
  }
 ],
 "metadata": {
  "kernelspec": {
   "display_name": "Python 3 (ipykernel)",
   "language": "python",
   "name": "python3"
  },
  "language_info": {
   "codemirror_mode": {
    "name": "ipython",
    "version": 3
   },
   "file_extension": ".py",
   "mimetype": "text/x-python",
   "name": "python",
   "nbconvert_exporter": "python",
   "pygments_lexer": "ipython3",
   "version": "3.9.12"
  }
 },
 "nbformat": 4,
 "nbformat_minor": 5
}
